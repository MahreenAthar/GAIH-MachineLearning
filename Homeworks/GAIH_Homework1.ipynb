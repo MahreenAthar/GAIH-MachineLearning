{
  "nbformat": 4,
  "nbformat_minor": 0,
  "metadata": {
    "colab": {
      "name": "GAIH-Homework1.ipynb",
      "provenance": [],
      "collapsed_sections": [],
      "authorship_tag": "ABX9TyMziusCvYT9YWXTaeaOXEqx",
      "include_colab_link": true
    },
    "kernelspec": {
      "name": "python3",
      "display_name": "Python 3"
    }
  },
  "cells": [
    {
      "cell_type": "markdown",
      "metadata": {
        "id": "view-in-github",
        "colab_type": "text"
      },
      "source": [
        "<a href=\"https://colab.research.google.com/github/MahreenAthar/GlobalAIHubMLCourse/blob/main/homework/GAIH_Homework1.ipynb\" target=\"_parent\"><img src=\"https://colab.research.google.com/assets/colab-badge.svg\" alt=\"Open In Colab\"/></a>"
      ]
    },
    {
      "cell_type": "markdown",
      "metadata": {
        "id": "kdPIxsanl92n"
      },
      "source": [
        "# Homework 1\n"
      ]
    },
    {
      "cell_type": "markdown",
      "metadata": {
        "id": "BpKRMEX3mMRW"
      },
      "source": [
        "#### 1) How would you define Machine Learning?\n"
      ]
    },
    {
      "cell_type": "markdown",
      "metadata": {
        "id": "DIM-Ed54mVzj"
      },
      "source": [
        "#### 2) What are the differences between Supervised and Unsupervised Learning? Specify example 3 algorithms for each of these.\n"
      ]
    },
    {
      "cell_type": "markdown",
      "metadata": {
        "id": "hih2On_bmdDU"
      },
      "source": [
        "#### 3) What are the test and validation set, and why would you want to use them?\n"
      ]
    },
    {
      "cell_type": "markdown",
      "metadata": {
        "id": "E_qIEUfkmgyk"
      },
      "source": [
        "#### 4) What are the main preprocessing steps? Explain them in detail. Why we need to prepare our data?"
      ]
    },
    {
      "cell_type": "markdown",
      "metadata": {
        "id": "sGLorOxWmkCF"
      },
      "source": [
        "#### 5) How you can explore countionus and discrete variables?"
      ]
    },
    {
      "cell_type": "markdown",
      "metadata": {
        "id": "5AVqGDy2moEC"
      },
      "source": [
        "#### 6) Analyse the plot given below. (What is the plot and variable type, check the distribution and make comment about how you can preproccess it.)\n",
        "\n",
        "<img src='https://drive.google.com/uc?id=1EoaA0MZBNJ8AlnML9potJe6eQN4YK1eG'>"
      ]
    }
  ]
}
