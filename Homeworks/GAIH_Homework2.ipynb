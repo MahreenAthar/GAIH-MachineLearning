{
  "nbformat": 4,
  "nbformat_minor": 0,
  "metadata": {
    "colab": {
      "name": "GAIH-Homework2.ipynb",
      "provenance": [],
      "collapsed_sections": [],
      "authorship_tag": "ABX9TyMA2I1g4h0nGC/8BvY2Fyh+",
      "include_colab_link": true
    },
    "kernelspec": {
      "name": "python3",
      "display_name": "Python 3"
    }
  },
  "cells": [
    {
      "cell_type": "markdown",
      "metadata": {
        "id": "view-in-github",
        "colab_type": "text"
      },
      "source": [
        "<a href=\"https://colab.research.google.com/github/MahreenAthar/GlobalAIHubMLCourse/blob/main/Homeworks/GAIH_Homework2.ipynb\" target=\"_parent\"><img src=\"https://colab.research.google.com/assets/colab-badge.svg\" alt=\"Open In Colab\"/></a>"
      ]
    },
    {
      "cell_type": "markdown",
      "metadata": {
        "id": "pBw91vRacFSq"
      },
      "source": [
        "#Homework 2\n"
      ]
    },
    {
      "cell_type": "markdown",
      "metadata": {
        "id": "lAMzOns3cNc_"
      },
      "source": [
        "* Import Boston Dataset from sklearn dataset class.\n",
        "* Explore and analyse raw data.\n",
        "* Do preprocessing for regression.\n",
        "* Split your dataset into train and test test (0.7 for train and 0.3 for test).\n",
        "* Try Ridge and Lasso Regression models with at least 5 different alpha value for each.\n",
        "* Evaluate the results of all models and choose the best performing model."
      ]
    },
    {
      "cell_type": "code",
      "metadata": {
        "id": "T3yA_RCNcXfV"
      },
      "source": [
        ""
      ],
      "execution_count": null,
      "outputs": []
    }
  ]
}